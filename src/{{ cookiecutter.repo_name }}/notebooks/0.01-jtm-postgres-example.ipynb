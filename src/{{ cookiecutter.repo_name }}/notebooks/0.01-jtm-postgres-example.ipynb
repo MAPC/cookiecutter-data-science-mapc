{
 "cells": [
  {
   "cell_type": "code",
   "execution_count": 1,
   "id": "d3d3124f-42eb-4a12-91f1-b49ba363a8a2",
   "metadata": {},
   "outputs": [],
   "source": [
    "%load_ext autoreload\n",
    "%autoreload 2"
   ]
  },
  {
   "cell_type": "code",
   "execution_count": 4,
   "id": "f8a615f6-712f-421e-8382-d6a11a42171a",
   "metadata": {},
   "outputs": [
    {
     "name": "stdout",
     "output_type": "stream",
     "text": [
      "Test\n"
     ]
    }
   ],
   "source": [
    "from python_template.dataset import make_dataset\n",
    "\n",
    "make_dataset()"
   ]
  }
 ],
 "metadata": {
  "kernelspec": {
   "display_name": "Python 3 (ipykernel)",
   "language": "python",
   "name": "python3"
  },
  "language_info": {
   "codemirror_mode": {
    "name": "ipython",
    "version": 3
   },
   "file_extension": ".py",
   "mimetype": "text/x-python",
   "name": "python",
   "nbconvert_exporter": "python",
   "pygments_lexer": "ipython3",
   "version": "3.10.18"
  }
 },
 "nbformat": 4,
 "nbformat_minor": 5
}
